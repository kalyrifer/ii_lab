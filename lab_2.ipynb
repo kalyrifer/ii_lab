{
 "cells": [
  {
   "cell_type": "code",
   "execution_count": 18,
   "id": "281c2c92-e97c-44e6-9762-7e111310d8ad",
   "metadata": {},
   "outputs": [],
   "source": [
    "import pandas as pd\n",
    "import numpy as np\n",
    "import matplotlib.pyplot as plt\n",
    "import seaborn as sns\n",
    "\n",
    "# Модели\n",
    "from sklearn.model_selection import train_test_split\n",
    "from sklearn.linear_model import LinearRegression, LogisticRegression, Ridge\n",
    "from sklearn.preprocessing import PolynomialFeatures\n",
    "\n",
    "# Метрики\n",
    "from sklearn.metrics import mean_squared_error, root_mean_squared_error, mean_absolute_error\n",
    "from sklearn.metrics import accuracy_score, confusion_matrix, classification_report"
   ]
  },
  {
   "cell_type": "code",
   "execution_count": 19,
   "id": "e14e4f1e-663f-4bac-9c42-8cb8a3925ca8",
   "metadata": {},
   "outputs": [
    {
     "name": "stdout",
     "output_type": "stream",
     "text": [
      "Загружено 4277 строк и 15 столбцов\n"
     ]
    },
    {
     "data": {
      "text/html": [
       "<div>\n",
       "<style scoped>\n",
       "    .dataframe tbody tr th:only-of-type {\n",
       "        vertical-align: middle;\n",
       "    }\n",
       "\n",
       "    .dataframe tbody tr th {\n",
       "        vertical-align: top;\n",
       "    }\n",
       "\n",
       "    .dataframe thead th {\n",
       "        text-align: right;\n",
       "    }\n",
       "</style>\n",
       "<table border=\"1\" class=\"dataframe\">\n",
       "  <thead>\n",
       "    <tr style=\"text-align: right;\">\n",
       "      <th></th>\n",
       "      <th>PassengerId</th>\n",
       "      <th>Cabin</th>\n",
       "      <th>Age</th>\n",
       "      <th>RoomService</th>\n",
       "      <th>FoodCourt</th>\n",
       "      <th>ShoppingMall</th>\n",
       "      <th>Spa</th>\n",
       "      <th>VRDeck</th>\n",
       "      <th>Name</th>\n",
       "      <th>Destination_PSO J318.5-22</th>\n",
       "      <th>Destination_TRAPPIST-1e</th>\n",
       "      <th>HomePlanet_Europa</th>\n",
       "      <th>HomePlanet_Mars</th>\n",
       "      <th>CryoSleep_True</th>\n",
       "      <th>VIP_True</th>\n",
       "    </tr>\n",
       "  </thead>\n",
       "  <tbody>\n",
       "    <tr>\n",
       "      <th>0</th>\n",
       "      <td>0013_01</td>\n",
       "      <td>2784</td>\n",
       "      <td>0.341772</td>\n",
       "      <td>0.000000</td>\n",
       "      <td>0.000000</td>\n",
       "      <td>0.00000</td>\n",
       "      <td>0.000000</td>\n",
       "      <td>0.000000</td>\n",
       "      <td>2912</td>\n",
       "      <td>False</td>\n",
       "      <td>True</td>\n",
       "      <td>False</td>\n",
       "      <td>False</td>\n",
       "      <td>True</td>\n",
       "      <td>False</td>\n",
       "    </tr>\n",
       "    <tr>\n",
       "      <th>1</th>\n",
       "      <td>0018_01</td>\n",
       "      <td>1867</td>\n",
       "      <td>0.240506</td>\n",
       "      <td>0.000000</td>\n",
       "      <td>0.000356</td>\n",
       "      <td>0.00000</td>\n",
       "      <td>0.142260</td>\n",
       "      <td>0.000000</td>\n",
       "      <td>2406</td>\n",
       "      <td>False</td>\n",
       "      <td>True</td>\n",
       "      <td>False</td>\n",
       "      <td>False</td>\n",
       "      <td>False</td>\n",
       "      <td>False</td>\n",
       "    </tr>\n",
       "    <tr>\n",
       "      <th>2</th>\n",
       "      <td>0019_01</td>\n",
       "      <td>257</td>\n",
       "      <td>0.392405</td>\n",
       "      <td>0.000000</td>\n",
       "      <td>0.000000</td>\n",
       "      <td>0.00000</td>\n",
       "      <td>0.000000</td>\n",
       "      <td>0.000000</td>\n",
       "      <td>3376</td>\n",
       "      <td>False</td>\n",
       "      <td>False</td>\n",
       "      <td>True</td>\n",
       "      <td>False</td>\n",
       "      <td>True</td>\n",
       "      <td>False</td>\n",
       "    </tr>\n",
       "    <tr>\n",
       "      <th>3</th>\n",
       "      <td>0021_01</td>\n",
       "      <td>259</td>\n",
       "      <td>0.481013</td>\n",
       "      <td>0.000000</td>\n",
       "      <td>0.263206</td>\n",
       "      <td>0.00000</td>\n",
       "      <td>0.009121</td>\n",
       "      <td>0.026266</td>\n",
       "      <td>2711</td>\n",
       "      <td>False</td>\n",
       "      <td>True</td>\n",
       "      <td>True</td>\n",
       "      <td>False</td>\n",
       "      <td>False</td>\n",
       "      <td>False</td>\n",
       "    </tr>\n",
       "    <tr>\n",
       "      <th>4</th>\n",
       "      <td>0023_01</td>\n",
       "      <td>1940</td>\n",
       "      <td>0.253165</td>\n",
       "      <td>0.000865</td>\n",
       "      <td>0.000000</td>\n",
       "      <td>0.07658</td>\n",
       "      <td>0.000000</td>\n",
       "      <td>0.000000</td>\n",
       "      <td>668</td>\n",
       "      <td>False</td>\n",
       "      <td>True</td>\n",
       "      <td>False</td>\n",
       "      <td>False</td>\n",
       "      <td>False</td>\n",
       "      <td>False</td>\n",
       "    </tr>\n",
       "  </tbody>\n",
       "</table>\n",
       "</div>"
      ],
      "text/plain": [
       "  PassengerId  Cabin       Age  RoomService  FoodCourt  ...  Destination_TRAPPIST-1e  HomePlanet_Europa  HomePlanet_Mars  CryoSleep_True  VIP_True\n",
       "0     0013_01   2784  0.341772     0.000000   0.000000  ...                     True              False            False            True     False\n",
       "1     0018_01   1867  0.240506     0.000000   0.000356  ...                     True              False            False           False     False\n",
       "2     0019_01    257  0.392405     0.000000   0.000000  ...                    False               True            False            True     False\n",
       "3     0021_01    259  0.481013     0.000000   0.263206  ...                     True               True            False           False     False\n",
       "4     0023_01   1940  0.253165     0.000865   0.000000  ...                     True              False            False           False     False\n",
       "\n",
       "[5 rows x 15 columns]"
      ]
     },
     "execution_count": 19,
     "metadata": {},
     "output_type": "execute_result"
    }
   ],
   "source": [
    ,
    "file_path = 'processed_titanic.csv'\n",
    "df = pd.read_csv(file_path)\n",
    "\n",
    "# Посмотрим, что загрузилось\n",
    "print(f\"Загружено {df.shape[0]} строк и {df.shape[1]} столбцов\")\n",
    "df.head()"
   ]
  },
  {
   "cell_type": "code",
   "execution_count": 20,
   "id": "da02d466-a002-415e-be5f-45c5ecaa0161",
   "metadata": {},
   "outputs": [
    {
     "name": "stdout",
     "output_type": "stream",
     "text": [
      "--- Данные для регрессии ---\n",
      "Цель (y_reg):\n",
      "0    0.341772\n",
      "1    0.240506\n",
      "2    0.392405\n",
      "3    0.481013\n",
      "4    0.253165\n",
      "Name: Age, dtype: float64\n",
      "\n",
      "Признаки (X_reg):\n",
      "   RoomService  FoodCourt  ShoppingMall       Spa    VRDeck  ...  Destination_TRAPPIST-1e  HomePlanet_Europa  HomePlanet_Mars  CryoSleep_True  VIP_True\n",
      "0     0.000000   0.000000       0.00000  0.000000  0.000000  ...                     True              False            False            True     False\n",
      "1     0.000000   0.000356       0.00000  0.142260  0.000000  ...                     True              False            False           False     False\n",
      "2     0.000000   0.000000       0.00000  0.000000  0.000000  ...                    False               True            False            True     False\n",
      "3     0.000000   0.263206       0.00000  0.009121  0.026266  ...                     True               True            False           False     False\n",
      "4     0.000865   0.000000       0.07658  0.000000  0.000000  ...                     True              False            False           False     False\n",
      "\n",
      "[5 rows x 11 columns]\n"
     ]
    }
   ],
   "source": [
    "# Цель (Y): то, что мы хотим предсказать\n",
    "y_reg = df['Age']\n",
    "\n",
    "# Признаки (X): то, на основе чего мы предсказываем\n",
    "# Убираем нашу цель 'Age' и бесполезные идентификаторы\n",
    "X_reg = df.drop(['Age', 'PassengerId', 'Cabin', 'Name'], axis=1)\n",
    "\n",
    "print(\"--- Данные для регрессии ---\")\n",
    "print(\"Цель (y_reg):\")\n",
    "print(y_reg.head())\n",
    "print(\"\\nПризнаки (X_reg):\")\n",
    "print(X_reg.head())"
   ]
  },
  {
   "cell_type": "code",
   "execution_count": 23,
   "id": "0d54d72e-7d1e-4dc6-ba9a-2a4e9a9e1c23",
   "metadata": {},
   "outputs": [
    {
     "name": "stdout",
     "output_type": "stream",
     "text": [
      "Размер обучающей выборки (train): 2566 (60%)\n",
      "Размер тестовой выборки (test):   1026 (24%)\n",
      "Размер валидационной выборки (val): 685 (16%)\n"
     ]
    }
   ],
   "source": [
    "# Используем код из методички для тройного разделения: 60% train, 24% test, 16% val\n",
    "# Сначала делим на 60% train и 40% temp\n",
    "X_train_reg, X_temp_reg, y_train_reg, y_temp_reg = train_test_split(\n",
    "    X_reg, y_reg, test_size=0.4, random_state=42\n",
    ")\n",
    "\n",
    "# Теперь делим 40% temp на 24% test и 16% val (test_size=0.4 от 40% = 16%)\n",
    "X_test_reg, X_val_reg, y_test_reg, y_val_reg = train_test_split(\n",
    "    X_temp_reg, y_temp_reg, test_size=0.4, random_state=42\n",
    ")\n",
    "\n",
    "print(f\"Размер обучающей выборки (train): {X_train_reg.shape[0]} (60%)\")\n",
    "print(f\"Размер тестовой выборки (test):   {X_test_reg.shape[0]} (24%)\")\n",
    "print(f\"Размер валидационной выборки (val): {X_val_reg.shape[0]} (16%)\")"
   ]
  },
  {
   "cell_type": "code",
   "execution_count": 24,
   "id": "69ccf4e7-21cc-4f9b-94bc-540483c539bc",
   "metadata": {},
   "outputs": [
    {
     "name": "stdout",
     "output_type": "stream",
     "text": [
      "Модель LinearRegression обучена.\n"
     ]
    }
   ],
   "source": [
    "# 1. Создаем объект модели\n",
    "linear_model = LinearRegression()\n",
    "\n",
    "# 2. Обучаем модель на ОБУЧАЮЩЕЙ выборке\n",
    "linear_model.fit(X_train_reg, y_train_reg)\n",
    "\n",
    "print(\"Модель LinearRegression обучена.\")"
   ]
  },
  {
   "cell_type": "code",
   "execution_count": 25,
   "id": "3b66a6ae-938f-497c-99cd-e1363eb7394b",
   "metadata": {},
   "outputs": [
    {
     "name": "stdout",
     "output_type": "stream",
     "text": [
      "--- Оценка базовой LinearRegression ---\n",
      "RMSE (Корень среднеквадратичной ошибки): 0.1621\n",
      "MAE (Средняя абсолютная ошибка):        0.1264\n"
     ]
    }
   ],
   "source": [
    "# 1. Делаем предсказание на ТЕСТОВЫХ данных\n",
    "y_pred_reg = linear_model.predict(X_test_reg)\n",
    "\n",
    "# 2. Считаем метрики, сравнивая предсказания (y_pred_reg) с реальными ответами (y_test_reg)\n",
    "rmse = root_mean_squared_error(y_test_reg, y_pred_reg)\n",
    "mae = mean_absolute_error(y_test_reg, y_pred_reg)\n",
    "\n",
    "print(f\"--- Оценка базовой LinearRegression ---\")\n",
    "print(f\"RMSE (Корень среднеквадратичной ошибки): {rmse:.4f}\")\n",
    "print(f\"MAE (Средняя абсолютная ошибка):        {mae:.4f}\")"
   ]
  },
  {
   "cell_type": "code",
   "execution_count": 26,
   "id": "9d6d21f7-1082-4ab0-9cf1-56c555a34d70",
   "metadata": {},
   "outputs": [
    {
     "name": "stdout",
     "output_type": "stream",
     "text": [
      "--- Оценка Ridge Regression (L2) ---\n",
      "RMSE (Ridge): 0.1620\n",
      "MAE (Ridge):  0.1265\n",
      "\n",
      "--- Сравнение ---\n",
      "MAE (базовая): 0.1264\n",
      "MAE (Ridge):   0.1265\n"
     ]
    }
   ],
   "source": [
    "# Попробуем модель Ridge (L2-регуляризация), как в методичке\n",
    "# alpha - это тот самый коэффициент λ (лямбда)\n",
    "model_reg_ridge = Ridge(alpha=1.0)\n",
    "\n",
    "# Обучаем ее на тех же данных\n",
    "model_reg_ridge.fit(X_train_reg, y_train_reg)\n",
    "\n",
    "# Делаем предсказание и снова считаем метрики\n",
    "y_pred_ridge = model_reg_ridge.predict(X_test_reg)\n",
    "rmse_ridge = root_mean_squared_error(y_test_reg, y_pred_ridge)\n",
    "mae_ridge = mean_absolute_error(y_test_reg, y_pred_ridge)\n",
    "\n",
    "print(f\"--- Оценка Ridge Regression (L2) ---\")\n",
    "print(f\"RMSE (Ridge): {rmse_ridge:.4f}\")\n",
    "print(f\"MAE (Ridge):  {mae_ridge:.4f}\")\n",
    "\n",
    "print(\"\\n--- Сравнение ---\")\n",
    "print(f\"MAE (базовая): {mae:.4f}\")\n",
    "print(f\"MAE (Ridge):   {mae_ridge:.4f}\")"
   ]
  },
  {
   "cell_type": "code",
   "execution_count": 27,
   "id": "7e27b362-28f0-4da1-8c0d-b5321ad33b15",
   "metadata": {},
   "outputs": [
    {
     "name": "stdout",
     "output_type": "stream",
     "text": [
      "--- Данные для классификации ---\n",
      "Цель (y_class):\n",
      "0     True\n",
      "1    False\n",
      "2     True\n",
      "3    False\n",
      "4    False\n",
      "Name: CryoSleep_True, dtype: bool\n",
      "\n",
      "Признаки (X_class):\n",
      "        Age  RoomService  FoodCourt  ShoppingMall       Spa  ...  Destination_PSO J318.5-22  Destination_TRAPPIST-1e  HomePlanet_Europa  HomePlanet_Mars  VIP_True\n",
      "0  0.341772     0.000000   0.000000       0.00000  0.000000  ...                      False                     True              False            False     False\n",
      "1  0.240506     0.000000   0.000356       0.00000  0.142260  ...                      False                     True              False            False     False\n",
      "2  0.392405     0.000000   0.000000       0.00000  0.000000  ...                      False                    False               True            False     False\n",
      "3  0.481013     0.000000   0.263206       0.00000  0.009121  ...                      False                     True               True            False     False\n",
      "4  0.253165     0.000865   0.000000       0.07658  0.000000  ...                      False                     True              False            False     False\n",
      "\n",
      "[5 rows x 11 columns]\n"
     ]
    }
   ],
   "source": [
    "# Цель (Y): то, что мы хотим предсказать (True/False)\n",
    "y_class = df['CryoSleep_True']\n",
    "\n",
    "# Признаки (X): убираем нашу цель 'CryoSleep_True' и идентификаторы\n",
    "X_class = df.drop(['CryoSleep_True', 'PassengerId', 'Cabin', 'Name'], axis=1)\n",
    "\n",
    "print(\"--- Данные для классификации ---\")\n",
    "print(\"Цель (y_class):\")\n",
    "print(y_class.head())\n",
    "print(\"\\nПризнаки (X_class):\")\n",
    "print(X_class.head())"
   ]
  },
  {
   "cell_type": "code",
   "execution_count": 28,
   "id": "e559c956-0772-4b10-a04f-5bbd2df553c7",
   "metadata": {},
   "outputs": [
    {
     "name": "stdout",
     "output_type": "stream",
     "text": [
      "Размер обучающей выборки (train): 2566 (60%)\n",
      "Размер тестовой выборки (test):   1026 (24%)\n",
      "Размер валидационной выборки (val): 685 (16%)\n"
     ]
    }
   ],
   "source": [
    "# Снова делим данные, но уже для задачи классификации\n",
    "X_train_class, X_temp_class, y_train_class, y_temp_class = train_test_split(\n",
    "    X_class, y_class, test_size=0.4, random_state=42\n",
    ")\n",
    "\n",
    "X_test_class, X_val_class, y_test_class, y_val_class = train_test_split(\n",
    "    X_temp_class, y_temp_class, test_size=0.4, random_state=42\n",
    ")\n",
    "\n",
    "print(f\"Размер обучающей выборки (train): {X_train_class.shape[0]} (60%)\")\n",
    "print(f\"Размер тестовой выборки (test):   {X_test_class.shape[0]} (24%)\")\n",
    "print(f\"Размер валидационной выборки (val): {X_val_class.shape[0]} (16%)\")"
   ]
  },
  {
   "cell_type": "code",
   "execution_count": 29,
   "id": "a2591a95-0b58-495b-b8ce-871cbf6e024e",
   "metadata": {},
   "outputs": [
    {
     "name": "stdout",
     "output_type": "stream",
     "text": [
      "Модель LogisticRegression обучена.\n"
     ]
    }
   ],
   "source": [
    "# 1. Создаем объект модели\n",
    "# max_iter=1000 - на всякий случай, чтобы модель точно сошлась (обучилась)\n",
    "logreg_model = LogisticRegression(max_iter=1000)\n",
    "\n",
    "# 2. Обучаем модель на ОБУЧАЮЩЕЙ выборке\n",
    "logreg_model.fit(X_train_class, y_train_class)\n",
    "\n",
    "print(\"Модель LogisticRegression обучена.\")"
   ]
  },
  {
   "cell_type": "code",
   "execution_count": 30,
   "id": "b111b278-6aae-4e06-b0dd-1899ac41cc8f",
   "metadata": {},
   "outputs": [
    {
     "name": "stdout",
     "output_type": "stream",
     "text": [
      "Accuracy: 83.24%\n",
      "\n",
      "--- Classification Report ---\n",
      "                   precision    recall  f1-score   support\n",
      "\n",
      "CryoSleep = False       0.83      0.94      0.88       669\n",
      " CryoSleep = True       0.85      0.63      0.72       357\n",
      "\n",
      "         accuracy                           0.83      1026\n",
      "        macro avg       0.84      0.79      0.80      1026\n",
      "     weighted avg       0.83      0.83      0.83      1026\n",
      "\n"
     ]
    }
   ],
   "source": [
    "# 1. Делаем предсказание на ТЕСТОВЫХ данных\n",
    "y_pred_class = logreg_model.predict(X_test_class)\n",
    "\n",
    "# 2. Считаем метрики\n",
    "# Accuracy (Доля правильных ответов)\n",
    "accuracy = accuracy_score(y_test_class, y_pred_class)\n",
    "print(f\"Accuracy: {accuracy:.2%}\")\n",
    "\n",
    "# Подробный отчет (Precision, Recall, F1-score)\n",
    "# target_names - просто для красивого вывода\n",
    "report = classification_report(\n",
    "    y_test_class, \n",
    "    y_pred_class, \n",
    "    target_names=['CryoSleep = False', 'CryoSleep = True']\n",
    ")\n",
    "print(\"\\n--- Classification Report ---\")\n",
    "print(report)"
   ]
  },
  {
   "cell_type": "code",
   "execution_count": 31,
   "id": "f20dc5af-a39c-4763-be96-e807142ed176",
   "metadata": {},
   "outputs": [
    {
     "data": {
      "image/png": "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",
      "text/plain": [
       "<Figure size 600x400 with 2 Axes>"
      ]
     },
     "metadata": {},
     "output_type": "display_data"
    }
   ],
   "source": [
    "# Строим Матрицу Ошибок (Confusion Matrix)\n",
    "cm = confusion_matrix(y_test_class, y_pred_class)\n",
    "\n",
    "plt.figure(figsize=(6, 4))\n",
    "sns.heatmap(cm, annot=True, fmt='d', cmap='Blues',\n",
    "            xticklabels=['Предсказано False', 'Предсказано True'],\n",
    "            yticklabels=['Реально False', 'Реально True'])\n",
    "plt.title('Матрица ошибок')\n",
    "plt.ylabel('Реальная метка')\n",
    "plt.xlabel('Предсказанная метка')\n",
    "plt.show()"
   ]
  },
  {
   "cell_type": "code",
   "execution_count": 32,
   "id": "68ffb4e8-134d-4d6c-888c-f809ba7d1049",
   "metadata": {},
   "outputs": [
    {
     "name": "stdout",
     "output_type": "stream",
     "text": [
      "\n",
      "--- Classification Report (L1-модель) ---\n",
      "                   precision    recall  f1-score   support\n",
      "\n",
      "CryoSleep = False       0.95      0.94      0.94       669\n",
      " CryoSleep = True       0.88      0.90      0.89       357\n",
      "\n",
      "         accuracy                           0.92      1026\n",
      "        macro avg       0.91      0.92      0.92      1026\n",
      "     weighted avg       0.92      0.92      0.92      1026\n",
      "\n"
     ]
    }
   ],
   "source": [
    "# Попробуем улучшить, используя L1-регуляризацию (Lasso), как в методичке\n",
    "# penalty='l1' - тип регуляризации\n",
    "# solver='liblinear' - специальный \"решатель\", который умеет работать с L1\n",
    "# C=0.5 - обратный коэффициент регуляризации (1/λ). \n",
    "# Чем МЕНЬШЕ C, тем СИЛЬНЕЕ регуляризация.\n",
    "\n",
    "model_class_l1 = LogisticRegression(\n",
    "    penalty='l1', \n",
    "    solver='liblinear', \n",
    "    C=0.5, \n",
    "    max_iter=1000\n",
    ")\n",
    "\n",
    "\n",
    "# Обучаем и оцениваем новую модель\n",
    "model_class_l1.fit(X_train_class, y_train_class)\n",
    "y_pred_l1 = model_class_l1.predict(X_test_class)\n",
    "\n",
    "print(\"\\n--- Classification Report (L1-модель) ---\")\n",
    "report_l1 = classification_report(\n",
    "    y_test_class, \n",
    "    y_pred_l1, \n",
    "    target_names=['CryoSleep = False', 'CryoSleep = True']\n",
    ")\n",
    "print(report_l1)"
   ]
  }
 ],
 "metadata": {
  "kernelspec": {
   "display_name": "Python 3 (ipykernel)",
   "language": "python",
   "name": "python3"
  },
  "language_info": {
   "codemirror_mode": {
    "name": "ipython",
    "version": 3
   },
   "file_extension": ".py",
   "mimetype": "text/x-python",
   "name": "python",
   "nbconvert_exporter": "python",
   "pygments_lexer": "ipython3",
   "version": "3.12.6"
  }
 },
 "nbformat": 4,
 "nbformat_minor": 5
}
